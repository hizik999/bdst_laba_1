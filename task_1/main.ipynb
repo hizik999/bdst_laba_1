{
 "cells": [
  {
   "cell_type": "code",
   "execution_count": 159,
   "metadata": {},
   "outputs": [],
   "source": [
    "import pandas as pd\n",
    "\n",
    "\n",
    "data = pd.read_csv('taxi.csv')\n",
    "data[['pickup_datetime', 'dropoff_datetime']] = data[['pickup_datetime', 'dropoff_datetime']].apply(pd.to_datetime)"
   ]
  },
  {
   "cell_type": "code",
   "execution_count": 161,
   "metadata": {},
   "outputs": [],
   "source": [
    "data['day'] = data['pickup_datetime'].dt.day\n",
    "data['month'] = data['pickup_datetime'].dt.month\n",
    "data['year'] = data['pickup_datetime'].dt.year\n",
    "#data"
   ]
  },
  {
   "cell_type": "code",
   "execution_count": 162,
   "metadata": {},
   "outputs": [],
   "source": [
    "### как я рассчитываю день недели https://lifehacker.ru/kakoj-den-nedeli/\n",
    "### столетия учитывать излишне\n",
    "def check_leap_year(year: int) -> bool:\n",
    "    return (year % 4 == 0) and (year % 100 != 0 or year % 400 == 0)\n",
    "\n",
    "\n",
    "def get_code_of_year(year: int) -> int:\n",
    "    last_two_digits = int(year % 100)\n",
    "    return (6 + last_two_digits + int(last_two_digits / 4)) % 7\n",
    "\n",
    "\n",
    "def get_code_of_month(month: int, year: int) -> int:\n",
    "    assert month in range(1, 12 + 1), f'Номер месяца в году может быть от 1 до 12, а на входе месяц {month}'\n",
    "    months_codes = {\n",
    "        1: 0 if check_leap_year(year) else 1,\n",
    "        2: 3 if check_leap_year(year) else 4,\n",
    "        3: 4, \n",
    "        4: 0,\n",
    "        5: 2,\n",
    "        6:5,\n",
    "        7: 0,\n",
    "        8: 3,\n",
    "        9: 6,\n",
    "        10: 1,\n",
    "        11: 4,\n",
    "        12: 6\n",
    "    }\n",
    "    return months_codes[month]\n",
    "\n",
    "\n",
    "def get_day_of_week(day: int, month: int, year: int) -> int:\n",
    "    assert day in range(1, 31 + 1), f'Номер дня в месяце должен быть от 1 до 31 включительно, а на входе день {day}'\n",
    "    days_of_week = {\n",
    "        0: 6,\n",
    "        1: 7,\n",
    "        2: 1,\n",
    "        3: 2,\n",
    "        4: 3,\n",
    "        5: 4,\n",
    "        6: 5\n",
    "    }\n",
    "    return days_of_week[(day + get_code_of_month(month, year) + get_code_of_year(year)) % 7]"
   ]
  },
  {
   "cell_type": "code",
   "execution_count": 163,
   "metadata": {},
   "outputs": [],
   "source": [
    "data['day_of_week'] = data.apply(lambda x: get_day_of_week(x['day'], x['month'], x['year']), axis=1)\n",
    "#data"
   ]
  },
  {
   "cell_type": "code",
   "execution_count": 164,
   "metadata": {},
   "outputs": [],
   "source": [
    "## выходные - 6 и 7 день\n",
    "filtered_data = data[data.apply(lambda x: x['day_of_week'] in range(6, 7 + 1), axis=1)]\n",
    "#filtered_data"
   ]
  },
  {
   "cell_type": "code",
   "execution_count": 173,
   "metadata": {},
   "outputs": [
    {
     "data": {
      "text/plain": [
       "month\n",
       "1    15899\n",
       "2    16094\n",
       "3    17650\n",
       "4    17257\n",
       "5    16930\n",
       "6    16170\n",
       "Name: id, dtype: int64"
      ]
     },
     "execution_count": 173,
     "metadata": {},
     "output_type": "execute_result"
    }
   ],
   "source": [
    "grouped_by_months = data.groupby('month')\n",
    "grouped_by_months.count()['id']"
   ]
  }
 ],
 "metadata": {
  "kernelspec": {
   "display_name": "venv",
   "language": "python",
   "name": "python3"
  },
  "language_info": {
   "codemirror_mode": {
    "name": "ipython",
    "version": 3
   },
   "file_extension": ".py",
   "mimetype": "text/x-python",
   "name": "python",
   "nbconvert_exporter": "python",
   "pygments_lexer": "ipython3",
   "version": "3.11.5"
  }
 },
 "nbformat": 4,
 "nbformat_minor": 2
}
